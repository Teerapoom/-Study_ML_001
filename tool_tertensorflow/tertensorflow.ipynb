{
 "cells": [
  {
   "cell_type": "code",
   "execution_count": 21,
   "metadata": {},
   "outputs": [
    {
     "name": "stdout",
     "output_type": "stream",
     "text": [
      "2.10.0\n"
     ]
    }
   ],
   "source": [
    "import pandas as pd\n",
    "import numpy as np\n",
    "import tensorflow as tf\n",
    "print(tf.__version__)\n"
   ]
  },
  {
   "cell_type": "code",
   "execution_count": 2,
   "metadata": {},
   "outputs": [
    {
     "name": "stdout",
     "output_type": "stream",
     "text": [
      "<module 'numpy' from 'c:\\\\Users\\\\jamez\\\\AppData\\\\Local\\\\Programs\\\\Python\\\\Python310\\\\lib\\\\site-packages\\\\numpy\\\\__init__.py'> <module 'tensorflow' from 'c:\\\\Users\\\\jamez\\\\AppData\\\\Local\\\\Programs\\\\Python\\\\Python310\\\\lib\\\\site-packages\\\\tensorflow\\\\__init__.py'>\n"
     ]
    }
   ],
   "source": [
    "SEED = 1234\n",
    "\n",
    "# Set seed for reproducibility\n",
    "np.random.seed(seed=SEED)\n",
    "tf.random.set_seed(SEED)\n",
    "print(np,tf)"
   ]
  },
  {
   "cell_type": "code",
   "execution_count": 3,
   "metadata": {},
   "outputs": [
    {
     "name": "stdout",
     "output_type": "stream",
     "text": [
      "tf.Tensor(1, shape=(), dtype=int32)\n"
     ]
    }
   ],
   "source": [
    "# Constants\n",
    "x = tf.constant(1)\n",
    "print (x)\n"
   ]
  },
  {
   "cell_type": "code",
   "execution_count": 4,
   "metadata": {},
   "outputs": [
    {
     "name": "stdout",
     "output_type": "stream",
     "text": [
      "tf.Tensor(\n",
      "[[1 2 3]\n",
      " [4 5 6]], shape=(2, 3), dtype=int32)\n"
     ]
    }
   ],
   "source": [
    "#สามารถเป็นค่าคงที่เเบบ Arrys\n",
    "x = tf.constant([ [1, 2, 3] , [4, 5, 6] ])\n",
    "print(x)"
   ]
  },
  {
   "cell_type": "code",
   "execution_count": 7,
   "metadata": {},
   "outputs": [
    {
     "name": "stdout",
     "output_type": "stream",
     "text": [
      "Type:<dtype: 'float32'>\n",
      "Size:(2, 3)\n",
      "Values:\n",
      "[[0.5380393  0.36461866 0.5816301 ]\n",
      " [0.24382842 0.43033564 0.90619123]]\n"
     ]
    }
   ],
   "source": [
    "# ตัวอย่างสร้าง tensor ขนาด 2 x 3 ซึ่งสมาชิกข้างในมัน random ด้วยรูปแบบ uniform distribution\n",
    "x = tf.random.uniform((2, 3))\n",
    "print(f'Type:{x.dtype}')\n",
    "print(f'Size:{x.shape}')\n",
    "print(f'Values:\\n{x}')"
   ]
  },
  {
   "cell_type": "code",
   "execution_count": 8,
   "metadata": {},
   "outputs": [
    {
     "name": "stdout",
     "output_type": "stream",
     "text": [
      "[[0.5380393  0.36461866 0.5816301 ]\n",
      " [0.24382842 0.43033564 0.90619123]]\n"
     ]
    }
   ],
   "source": [
    "print(x.numpy())"
   ]
  },
  {
   "cell_type": "code",
   "execution_count": 9,
   "metadata": {},
   "outputs": [
    {
     "name": "stdout",
     "output_type": "stream",
     "text": [
      "tf.Tensor(\n",
      "[[0. 0. 0.]\n",
      " [0. 0. 0.]], shape=(2, 3), dtype=float32)\n",
      "tf.Tensor(\n",
      "[[1. 1. 1.]\n",
      " [1. 1. 1.]], shape=(2, 3), dtype=float32)\n"
     ]
    }
   ],
   "source": [
    "x = tf.zeros((2,3))\n",
    "print(x)\n",
    "x = tf.ones((2,3))\n",
    "print(x)"
   ]
  },
  {
   "cell_type": "markdown",
   "metadata": {},
   "source": [
    "แปลงชนิดข้อมูลจาก List เป็น Tensor"
   ]
  },
  {
   "cell_type": "code",
   "execution_count": 11,
   "metadata": {},
   "outputs": [
    {
     "name": "stdout",
     "output_type": "stream",
     "text": [
      "tf.Tensor(\n",
      "[[1 2 3]\n",
      " [4 5 6]], shape=(2, 3), dtype=int32)\n"
     ]
    }
   ],
   "source": [
    "# List → Tensor\n",
    "x = tf.convert_to_tensor([[1, 2, 3], [4, 5, 6]],dtype=\"int32\")\n",
    "print(x)"
   ]
  },
  {
   "cell_type": "code",
   "execution_count": 20,
   "metadata": {},
   "outputs": [
    {
     "name": "stdout",
     "output_type": "stream",
     "text": [
      "tf.Tensor(\n",
      "[[0 0 0]\n",
      " [0 0 0]], shape=(2, 3), dtype=int32)\n"
     ]
    }
   ],
   "source": [
    "# NumPy array -> Tensor\n",
    "x = tf.convert_to_tensor(np.random.rand(2,3),dtype = \"int32\")\n",
    "print(x)  "
   ]
  },
  {
   "cell_type": "code",
   "execution_count": 26,
   "metadata": {},
   "outputs": [
    {
     "name": "stdout",
     "output_type": "stream",
     "text": [
      "Size of datafame: (17000, 9)\n",
      "tf.Tensor(\n",
      "[[-1.1431e+02  3.4190e+01  1.5000e+01 ...  4.7200e+02  1.4936e+00\n",
      "   6.6900e+04]\n",
      " [-1.1447e+02  3.4400e+01  1.9000e+01 ...  4.6300e+02  1.8200e+00\n",
      "   8.0100e+04]\n",
      " [-1.1456e+02  3.3690e+01  1.7000e+01 ...  1.1700e+02  1.6509e+00\n",
      "   8.5700e+04]\n",
      " ...\n",
      " [-1.2430e+02  4.1840e+01  1.7000e+01 ...  4.5600e+02  3.0313e+00\n",
      "   1.0360e+05]\n",
      " [-1.2430e+02  4.1800e+01  1.9000e+01 ...  4.7800e+02  1.9797e+00\n",
      "   8.5800e+04]\n",
      " [-1.2435e+02  4.0540e+01  5.2000e+01 ...  2.7000e+02  3.0147e+00\n",
      "   9.4600e+04]], shape=(17000, 9), dtype=float64)\n"
     ]
    }
   ],
   "source": [
    "# แปลงชนิดข้อมูลจาก DataFrame เป็น Tensor\n",
    "df = pd.read_csv('../data/california_housing_train.csv')\n",
    "print(\"Size of datafame:\",df.shape)\n",
    "x = tf.convert_to_tensor(df.values)\n",
    "print(x)"
   ]
  },
  {
   "cell_type": "markdown",
   "metadata": {},
   "source": [
    "เปลี่บนชนิดข้อมูลใน tersor"
   ]
  },
  {
   "cell_type": "code",
   "execution_count": 28,
   "metadata": {},
   "outputs": [
    {
     "name": "stdout",
     "output_type": "stream",
     "text": [
      "Type:<dtype: 'float32'>\n",
      "Type:<dtype: 'float64'>\n"
     ]
    }
   ],
   "source": [
    "x =tf.random.uniform((2,3))\n",
    "print(f'Type:{x.dtype}')\n",
    "x = tf.convert_to_tensor(x.numpy(),dtype=\"float64\")\n",
    "print(f'Type:{x.dtype}')"
   ]
  }
 ],
 "metadata": {
  "kernelspec": {
   "display_name": "Python 3.10.7 64-bit",
   "language": "python",
   "name": "python3"
  },
  "language_info": {
   "codemirror_mode": {
    "name": "ipython",
    "version": 3
   },
   "file_extension": ".py",
   "mimetype": "text/x-python",
   "name": "python",
   "nbconvert_exporter": "python",
   "pygments_lexer": "ipython3",
   "version": "3.10.7"
  },
  "orig_nbformat": 4,
  "vscode": {
   "interpreter": {
    "hash": "547733121963954cf03ad109e00d47313429c4af37f837bad0df09349b1b3ecd"
   }
  }
 },
 "nbformat": 4,
 "nbformat_minor": 2
}
